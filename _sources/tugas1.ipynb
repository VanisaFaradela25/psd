{
 "cells": [
  {
   "cell_type": "markdown",
   "metadata": {},
   "source": [
    "# MEMAHAMI BISNIS "
   ]
  },
  {
   "cell_type": "markdown",
   "metadata": {},
   "source": [
    "Metodologi yang paling terkenal dan paling sering digunakan dalam Data science dengan tujuan mengolah, mengelola, menganalisis, dan memahami data adalah Cross Industry Standard Process for Data Mining (CRISP-DM). CRISP-DM sendiri memiliki 6 tahapan penting, yang tahapan pertama nya akan dibahas di bawah ini."
   ]
  },
  {
   "cell_type": "markdown",
   "metadata": {},
   "source": [
    "## 1. Pengertian Memahami Bisnis (Business Understanding)\n",
    "\n",
    "Tahapan business understanding ini adalah tahapan yag bertujuan untuk memahami kebutuhan pelanggan secara mendalam. Kegiatan yang dilakukan pada tahap ini adalah menentukan tujuan bisnis, menilai situasi ketersediaan sumber daya, menentukan tujuan pengumpulan data, dan menghasilkan rencana proyek.\n",
    "\n",
    "## 2. KOMPONEN PENTING DALAM BUSINESS UNDERSTANDING\n",
    "\n",
    "  a. Identifikasi Masalah Bisnis\n",
    "\n",
    "  bagian ini mengharuskan kita untuk dapat benar-benar memahami apa yang sedang menjadi tantangan utamanya. Misalnya, penjualan yang terus menurun, tingkat pelanggan yang berhenti menggunakan layanan (churn) semakin tinggi, atau biaya operasional yang membengkak. Identifikasi ini menjadi dasar arah analisis data nantinya.\n",
    "\n",
    "  b. Tujuan Bisnis\n",
    "\n",
    "  Tujuan dalam berbisnis haruslah jelas dan terukur, karena menjadi target akhir yang ingin dicapai organisasi.\n",
    "\n",
    "  c. Formulasi Tujuan Data\n",
    "\n",
    "  tujuan bisnis tadi diterjemahkan ke dalam bentuk masalah data yang bisa dianalisis. Jika tujuan bisnisnya adalah mengurangi churn pelanggan, maka tujuan datanya bisa berupa membangun model prediksi pelanggan yang berpotensi berhenti menggunakan layanan.\n",
    "\n",
    "  d. Menetapkan Kriteria Keberhasilan\n",
    "\n",
    "  Kriteria ini berfungsi untuk menilai apakah solusi berbasis data benar-benar efektif. Misalnya, keberhasilan bisa diukur dari akurasi model prediksi yang minimal 85%, atau dari kenyataan bahwa strategi promosi yang dijalankan berdasarkan model tersebut benar-benar mampu meningkatkan penjualan sesuai target.\n",
    "\n",
    "  e. Analisis Situasi\n",
    "\n",
    "  Analisis ini penting untuk memahami kondisi perusahaan secara keseluruhan, termasuk sumber daya yang tersedia, peluang yang bisa dimanfaatkan, hingga risiko yang mungkin dihadapi. Dengan begitu, solusi yang dibangun dari data benar-benar realistis dan sesuai kemampuan perusahaan.\n",
    "\n",
    "## 3. MANFAAT BUSINESS UNDERSTANDING\n",
    "\n",
    "a. Membantu organisasi fokus ke masalah yang tepat.\n",
    "\n",
    "b. Menghemat waktu dan biaya karena analisis data lebih terarah.\n",
    "\n",
    "c. Meminimalkan kesalahpahaman antara tim bisnis dan tim teknis.\n",
    "\n",
    "d. Menjadi dasar kuat untuk tahap berikutnya (Data Understanding, Data Preparation, Modeling, Evaluation, Deployment).\n",
    "\n",
    "## 4. CONTOH KASUS BUSINESS UNDERSTANDING\n",
    "\n",
    "- kasus : Sebuah toko online mengalami penurunan jumlah pelanggan yang melakukan pembelian ulang.\n",
    "\n",
    "- maslaah bisnis : pelanggan yang tidak loyal\n",
    "\n",
    "- tujuan bisnis : Meningkatkan tingkat repeat order 20% dalam 3 bulan.\n",
    "\n",
    "- tujuan data : Membuat model prediksi pelanggan mana yang berpotensi berhenti belanja.\n",
    "\n",
    "- kriteria keberhasilan : Model dengan akurasi ≥ 80% + strategi promosi yang terbukti menaikkan tingkat pembelian ulang."
   ]
  },
  {
   "cell_type": "markdown",
   "metadata": {},
   "source": [
    "# REFERENSI \n",
    "\n",
    "1. https://dqlab.id/business-understanding-dalam-portfolio-data-scientist\n",
    "\n",
    "2. https://klc2.kemenkeu.go.id/kms/knowledge/business-understanding-tahapan-pertama-proyek-data-analytics-e7f004d7/detail/\n",
    "\n",
    "3. https://www.dicoding.com/blog/crisp-dm-tahapan-studi-kasus-kelebihan-dan-kekurangan/\n"
   ]
  }
 ],
 "metadata": {
  "kernelspec": {
   "display_name": "Python 3",
   "language": "python",
   "name": "python3"
  },
  "language_info": {
   "codemirror_mode": {
    "name": "ipython",
    "version": 3
   },
   "file_extension": ".py",
   "mimetype": "text/x-python",
   "name": "python",
   "nbconvert_exporter": "python",
   "pygments_lexer": "ipython3",
   "version": "3.8.0"
  },
  "widgets": {
   "application/vnd.jupyter.widget-state+json": {
    "state": {},
    "version_major": 2,
    "version_minor": 0
   }
  }
 },
 "nbformat": 4,
 "nbformat_minor": 4
}
